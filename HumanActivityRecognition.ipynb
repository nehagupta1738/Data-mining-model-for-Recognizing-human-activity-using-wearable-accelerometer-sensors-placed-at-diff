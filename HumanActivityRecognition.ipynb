{
 "cells": [
  {
   "cell_type": "markdown",
   "metadata": {},
   "source": [
    "## HumanActivityRecognition\n",
    "This project is to build a model that predicts the human activities such as Walking, Walking_Upstairs, Walking_Downstairs, Sitting, Standing or Laying.\n",
    "\n"
   ]
  },
  {
   "cell_type": "markdown",
   "metadata": {},
   "source": [
    "Train and test data were saperated\n"
   ]
  },
  {
   "cell_type": "markdown",
   "metadata": {},
   "source": [
    "70% of the Subject's Reading were taken as trianing data and remaining 30% subjects'recordings were taken for test data"
   ]
  },
  {
   "cell_type": "markdown",
   "metadata": {},
   "source": [
    "### Output Labels\n",
    "WALKING            -> 1<br>\n",
    "WALKING UPSTAIRS   -> 2<br>\n",
    "WALKING DOWNSTAIRS -> 3<br>\n",
    "SITTING            -> 4<br>\n",
    "STANDING           -> 5<br>\n",
    "LYING              -> 6"
   ]
  },
  {
   "cell_type": "markdown",
   "metadata": {},
   "source": [
    "- 30 volunteers referred to as subjects  performed the experiment for data collection wearing smartphones sensors on their waist.\n",
    "- The two smartphone sensors captured the 3 axial linear acceleration as well as the 3 axial angular velocity of the subject.\n",
    "- The sensor signals were sampled in fixed-width sliding windows of 2.56 sec and 50% overlap (128 readings/window).\n",
    "- The data were recorded at the constant  frequency of 50Hz  (50 data points  were recorded each second ) \n",
    "- 561 feature vector were engineered from each time window of 2.56 second with both time and frequency domain variables\n"
   ]
  },
  {
   "cell_type": "markdown",
   "metadata": {},
   "source": [
    "### We need to predict the output as one of the 6 labels the user is performing using either handcoded engineered 561 features or raw features of 128 readings"
   ]
  },
  {
   "cell_type": "markdown",
   "metadata": {},
   "source": [
    "## Distribution of Data\n",
    "Date points given by 30 subjects(volunteers) is randomly split to 70%(21) train and 30%(9) test data.\n",
    "Each data-point corresponds one of the 6 Activities."
   ]
  },
  {
   "cell_type": "markdown",
   "metadata": {},
   "source": [
    "## Importing all the libraries needed for the LSTM model"
   ]
  },
  {
   "cell_type": "code",
   "execution_count": 153,
   "metadata": {},
   "outputs": [],
   "source": [
    "import numpy as np       #numpy\n",
    "import pandas as pd      #pandas\n",
    "import matplotlib.pyplot as plt   #matplotlib\n",
    "import seaborn as sns             #seaborn\n",
    "import tensorflow as tf           #tensorflow\n",
    "from keras.models import Sequential    #keras\n",
    "from keras.layers import LSTM          #keras layers\n",
    "from keras.layers.core import Dense, Dropout  #keras layers core\n",
    "from keras.layers.normalization import BatchNormalization  #keras layers normalisation\n",
    "from sklearn.model_selection import train_test_split\n",
    "from sklearn.linear_model import LogisticRegression\n",
    "from sklearn import metrics\n",
    "from tensorflow import keras"
   ]
  },
  {
   "cell_type": "code",
   "execution_count": 154,
   "metadata": {},
   "outputs": [],
   "source": [
    "ACTIVITIES = {\n",
    "    0: 'WALKING',\n",
    "    1: 'WALKING_UPSTAIRS',\n",
    "    2: 'WALKING_DOWNSTAIRS',\n",
    "    3: 'SITTING',\n",
    "    4: 'STANDING',\n",
    "    5: 'LAYING',\n",
    "}\n",
    "\n",
    "\n",
    "DATADIR = 'UCI_HAR_Dataset'\n",
    "\n",
    "labels=['LAYING', 'SITTING','STANDING','WALKING','WALKING_DOWNSTAIRS','WALKING_UPSTAIRS']\n",
    "\n",
    "SIGNALS = [\n",
    "    \"body_acc_x\",\n",
    "    \"body_acc_y\",\n",
    "    \"body_acc_z\",\n",
    "    \"body_gyro_x\",\n",
    "    \"body_gyro_y\",\n",
    "    \"body_gyro_z\",\n",
    "    \"total_acc_x\",\n",
    "    \"total_acc_y\",\n",
    "    \"total_acc_z\"\n",
    "]"
   ]
  },
  {
   "cell_type": "markdown",
   "metadata": {},
   "source": [
    "# Obtaining the train data"
   ]
  },
  {
   "cell_type": "code",
   "execution_count": 155,
   "metadata": {},
   "outputs": [
    {
     "data": {
      "text/html": [
       "<div>\n",
       "<style scoped>\n",
       "    .dataframe tbody tr th:only-of-type {\n",
       "        vertical-align: middle;\n",
       "    }\n",
       "\n",
       "    .dataframe tbody tr th {\n",
       "        vertical-align: top;\n",
       "    }\n",
       "\n",
       "    .dataframe thead th {\n",
       "        text-align: right;\n",
       "    }\n",
       "</style>\n",
       "<table border=\"1\" class=\"dataframe\">\n",
       "  <thead>\n",
       "    <tr style=\"text-align: right;\">\n",
       "      <th></th>\n",
       "      <th>0</th>\n",
       "      <th>1</th>\n",
       "      <th>2</th>\n",
       "      <th>3</th>\n",
       "      <th>4</th>\n",
       "      <th>5</th>\n",
       "      <th>6</th>\n",
       "      <th>7</th>\n",
       "      <th>8</th>\n",
       "      <th>9</th>\n",
       "      <th>...</th>\n",
       "      <th>554</th>\n",
       "      <th>555</th>\n",
       "      <th>556</th>\n",
       "      <th>557</th>\n",
       "      <th>558</th>\n",
       "      <th>559</th>\n",
       "      <th>560</th>\n",
       "      <th>subject</th>\n",
       "      <th>Activity</th>\n",
       "      <th>ActivityName</th>\n",
       "    </tr>\n",
       "  </thead>\n",
       "  <tbody>\n",
       "    <tr>\n",
       "      <th>0</th>\n",
       "      <td>0.288585</td>\n",
       "      <td>-0.020294</td>\n",
       "      <td>-0.132905</td>\n",
       "      <td>-0.995279</td>\n",
       "      <td>-0.983111</td>\n",
       "      <td>-0.913526</td>\n",
       "      <td>-0.995112</td>\n",
       "      <td>-0.983185</td>\n",
       "      <td>-0.923527</td>\n",
       "      <td>-0.934724</td>\n",
       "      <td>...</td>\n",
       "      <td>-0.112754</td>\n",
       "      <td>0.030400</td>\n",
       "      <td>-0.464761</td>\n",
       "      <td>-0.018446</td>\n",
       "      <td>-0.841247</td>\n",
       "      <td>0.179941</td>\n",
       "      <td>-0.058627</td>\n",
       "      <td>1</td>\n",
       "      <td>5</td>\n",
       "      <td>STANDING</td>\n",
       "    </tr>\n",
       "    <tr>\n",
       "      <th>1</th>\n",
       "      <td>0.278419</td>\n",
       "      <td>-0.016411</td>\n",
       "      <td>-0.123520</td>\n",
       "      <td>-0.998245</td>\n",
       "      <td>-0.975300</td>\n",
       "      <td>-0.960322</td>\n",
       "      <td>-0.998807</td>\n",
       "      <td>-0.974914</td>\n",
       "      <td>-0.957686</td>\n",
       "      <td>-0.943068</td>\n",
       "      <td>...</td>\n",
       "      <td>0.053477</td>\n",
       "      <td>-0.007435</td>\n",
       "      <td>-0.732626</td>\n",
       "      <td>0.703511</td>\n",
       "      <td>-0.844788</td>\n",
       "      <td>0.180289</td>\n",
       "      <td>-0.054317</td>\n",
       "      <td>1</td>\n",
       "      <td>5</td>\n",
       "      <td>STANDING</td>\n",
       "    </tr>\n",
       "    <tr>\n",
       "      <th>2</th>\n",
       "      <td>0.279653</td>\n",
       "      <td>-0.019467</td>\n",
       "      <td>-0.113462</td>\n",
       "      <td>-0.995380</td>\n",
       "      <td>-0.967187</td>\n",
       "      <td>-0.978944</td>\n",
       "      <td>-0.996520</td>\n",
       "      <td>-0.963668</td>\n",
       "      <td>-0.977469</td>\n",
       "      <td>-0.938692</td>\n",
       "      <td>...</td>\n",
       "      <td>-0.118559</td>\n",
       "      <td>0.177899</td>\n",
       "      <td>0.100699</td>\n",
       "      <td>0.808529</td>\n",
       "      <td>-0.848933</td>\n",
       "      <td>0.180637</td>\n",
       "      <td>-0.049118</td>\n",
       "      <td>1</td>\n",
       "      <td>5</td>\n",
       "      <td>STANDING</td>\n",
       "    </tr>\n",
       "    <tr>\n",
       "      <th>3</th>\n",
       "      <td>0.279174</td>\n",
       "      <td>-0.026201</td>\n",
       "      <td>-0.123283</td>\n",
       "      <td>-0.996091</td>\n",
       "      <td>-0.983403</td>\n",
       "      <td>-0.990675</td>\n",
       "      <td>-0.997099</td>\n",
       "      <td>-0.982750</td>\n",
       "      <td>-0.989302</td>\n",
       "      <td>-0.938692</td>\n",
       "      <td>...</td>\n",
       "      <td>-0.036788</td>\n",
       "      <td>-0.012892</td>\n",
       "      <td>0.640011</td>\n",
       "      <td>-0.485366</td>\n",
       "      <td>-0.848649</td>\n",
       "      <td>0.181935</td>\n",
       "      <td>-0.047663</td>\n",
       "      <td>1</td>\n",
       "      <td>5</td>\n",
       "      <td>STANDING</td>\n",
       "    </tr>\n",
       "    <tr>\n",
       "      <th>4</th>\n",
       "      <td>0.276629</td>\n",
       "      <td>-0.016570</td>\n",
       "      <td>-0.115362</td>\n",
       "      <td>-0.998139</td>\n",
       "      <td>-0.980817</td>\n",
       "      <td>-0.990482</td>\n",
       "      <td>-0.998321</td>\n",
       "      <td>-0.979672</td>\n",
       "      <td>-0.990441</td>\n",
       "      <td>-0.942469</td>\n",
       "      <td>...</td>\n",
       "      <td>0.123320</td>\n",
       "      <td>0.122542</td>\n",
       "      <td>0.693578</td>\n",
       "      <td>-0.615971</td>\n",
       "      <td>-0.847865</td>\n",
       "      <td>0.185151</td>\n",
       "      <td>-0.043892</td>\n",
       "      <td>1</td>\n",
       "      <td>5</td>\n",
       "      <td>STANDING</td>\n",
       "    </tr>\n",
       "  </tbody>\n",
       "</table>\n",
       "<p>5 rows × 564 columns</p>\n",
       "</div>"
      ],
      "text/plain": [
       "          0         1         2         3         4         5         6  \\\n",
       "0  0.288585 -0.020294 -0.132905 -0.995279 -0.983111 -0.913526 -0.995112   \n",
       "1  0.278419 -0.016411 -0.123520 -0.998245 -0.975300 -0.960322 -0.998807   \n",
       "2  0.279653 -0.019467 -0.113462 -0.995380 -0.967187 -0.978944 -0.996520   \n",
       "3  0.279174 -0.026201 -0.123283 -0.996091 -0.983403 -0.990675 -0.997099   \n",
       "4  0.276629 -0.016570 -0.115362 -0.998139 -0.980817 -0.990482 -0.998321   \n",
       "\n",
       "          7         8         9  ...       554       555       556       557  \\\n",
       "0 -0.983185 -0.923527 -0.934724  ... -0.112754  0.030400 -0.464761 -0.018446   \n",
       "1 -0.974914 -0.957686 -0.943068  ...  0.053477 -0.007435 -0.732626  0.703511   \n",
       "2 -0.963668 -0.977469 -0.938692  ... -0.118559  0.177899  0.100699  0.808529   \n",
       "3 -0.982750 -0.989302 -0.938692  ... -0.036788 -0.012892  0.640011 -0.485366   \n",
       "4 -0.979672 -0.990441 -0.942469  ...  0.123320  0.122542  0.693578 -0.615971   \n",
       "\n",
       "        558       559       560  subject  Activity  ActivityName  \n",
       "0 -0.841247  0.179941 -0.058627        1         5      STANDING  \n",
       "1 -0.844788  0.180289 -0.054317        1         5      STANDING  \n",
       "2 -0.848933  0.180637 -0.049118        1         5      STANDING  \n",
       "3 -0.848649  0.181935 -0.047663        1         5      STANDING  \n",
       "4 -0.847865  0.185151 -0.043892        1         5      STANDING  \n",
       "\n",
       "[5 rows x 564 columns]"
      ]
     },
     "execution_count": 155,
     "metadata": {},
     "output_type": "execute_result"
    }
   ],
   "source": [
    "X_train = pd.read_csv('UCI_HAR_Dataset/train/X_train.txt', delim_whitespace=True, header=None)\n",
    "\n",
    "\n",
    "X_train['subject'] = pd.read_csv('UCI_HAR_Dataset/train/subject_train.txt', header=None, squeeze=True)\n",
    "\n",
    "y_train = pd.read_csv('UCI_HAR_Dataset/train/y_train.txt', names=['Activity'], squeeze=True)\n",
    "y_train_labels = y_train.map({1: 'WALKING', 2:'WALKING_UPSTAIRS',3:'WALKING_DOWNSTAIRS',4:'SITTING', 5:'STANDING',6:'LAYING'})\n",
    "\n",
    "train = X_train\n",
    "train['Activity'] = y_train\n",
    "train['ActivityName'] = y_train_labels\n",
    "train.head()"
   ]
  },
  {
   "cell_type": "code",
   "execution_count": 156,
   "metadata": {},
   "outputs": [
    {
     "name": "stdout",
     "output_type": "stream",
     "text": [
      "(7352, 564) 4146528\n"
     ]
    }
   ],
   "source": [
    "print(train.shape,train.size)\n"
   ]
  },
  {
   "cell_type": "markdown",
   "metadata": {},
   "source": [
    "# Obtaining the test data"
   ]
  },
  {
   "cell_type": "code",
   "execution_count": 157,
   "metadata": {},
   "outputs": [
    {
     "data": {
      "text/html": [
       "<div>\n",
       "<style scoped>\n",
       "    .dataframe tbody tr th:only-of-type {\n",
       "        vertical-align: middle;\n",
       "    }\n",
       "\n",
       "    .dataframe tbody tr th {\n",
       "        vertical-align: top;\n",
       "    }\n",
       "\n",
       "    .dataframe thead th {\n",
       "        text-align: right;\n",
       "    }\n",
       "</style>\n",
       "<table border=\"1\" class=\"dataframe\">\n",
       "  <thead>\n",
       "    <tr style=\"text-align: right;\">\n",
       "      <th></th>\n",
       "      <th>0</th>\n",
       "      <th>1</th>\n",
       "      <th>2</th>\n",
       "      <th>3</th>\n",
       "      <th>4</th>\n",
       "      <th>5</th>\n",
       "      <th>6</th>\n",
       "      <th>7</th>\n",
       "      <th>8</th>\n",
       "      <th>9</th>\n",
       "      <th>...</th>\n",
       "      <th>554</th>\n",
       "      <th>555</th>\n",
       "      <th>556</th>\n",
       "      <th>557</th>\n",
       "      <th>558</th>\n",
       "      <th>559</th>\n",
       "      <th>560</th>\n",
       "      <th>subject</th>\n",
       "      <th>Activity</th>\n",
       "      <th>ActivityName</th>\n",
       "    </tr>\n",
       "  </thead>\n",
       "  <tbody>\n",
       "    <tr>\n",
       "      <th>0</th>\n",
       "      <td>0.257178</td>\n",
       "      <td>-0.023285</td>\n",
       "      <td>-0.014654</td>\n",
       "      <td>-0.938404</td>\n",
       "      <td>-0.920091</td>\n",
       "      <td>-0.667683</td>\n",
       "      <td>-0.952501</td>\n",
       "      <td>-0.925249</td>\n",
       "      <td>-0.674302</td>\n",
       "      <td>-0.894088</td>\n",
       "      <td>...</td>\n",
       "      <td>0.006462</td>\n",
       "      <td>0.162920</td>\n",
       "      <td>-0.825886</td>\n",
       "      <td>0.271151</td>\n",
       "      <td>-0.720009</td>\n",
       "      <td>0.276801</td>\n",
       "      <td>-0.057978</td>\n",
       "      <td>2</td>\n",
       "      <td>5</td>\n",
       "      <td>STANDING</td>\n",
       "    </tr>\n",
       "    <tr>\n",
       "      <th>1</th>\n",
       "      <td>0.286027</td>\n",
       "      <td>-0.013163</td>\n",
       "      <td>-0.119083</td>\n",
       "      <td>-0.975415</td>\n",
       "      <td>-0.967458</td>\n",
       "      <td>-0.944958</td>\n",
       "      <td>-0.986799</td>\n",
       "      <td>-0.968401</td>\n",
       "      <td>-0.945823</td>\n",
       "      <td>-0.894088</td>\n",
       "      <td>...</td>\n",
       "      <td>-0.083495</td>\n",
       "      <td>0.017500</td>\n",
       "      <td>-0.434375</td>\n",
       "      <td>0.920593</td>\n",
       "      <td>-0.698091</td>\n",
       "      <td>0.281343</td>\n",
       "      <td>-0.083898</td>\n",
       "      <td>2</td>\n",
       "      <td>5</td>\n",
       "      <td>STANDING</td>\n",
       "    </tr>\n",
       "    <tr>\n",
       "      <th>2</th>\n",
       "      <td>0.275485</td>\n",
       "      <td>-0.026050</td>\n",
       "      <td>-0.118152</td>\n",
       "      <td>-0.993819</td>\n",
       "      <td>-0.969926</td>\n",
       "      <td>-0.962748</td>\n",
       "      <td>-0.994403</td>\n",
       "      <td>-0.970735</td>\n",
       "      <td>-0.963483</td>\n",
       "      <td>-0.939260</td>\n",
       "      <td>...</td>\n",
       "      <td>-0.034956</td>\n",
       "      <td>0.202302</td>\n",
       "      <td>0.064103</td>\n",
       "      <td>0.145068</td>\n",
       "      <td>-0.702771</td>\n",
       "      <td>0.280083</td>\n",
       "      <td>-0.079346</td>\n",
       "      <td>2</td>\n",
       "      <td>5</td>\n",
       "      <td>STANDING</td>\n",
       "    </tr>\n",
       "    <tr>\n",
       "      <th>3</th>\n",
       "      <td>0.270298</td>\n",
       "      <td>-0.032614</td>\n",
       "      <td>-0.117520</td>\n",
       "      <td>-0.994743</td>\n",
       "      <td>-0.973268</td>\n",
       "      <td>-0.967091</td>\n",
       "      <td>-0.995274</td>\n",
       "      <td>-0.974471</td>\n",
       "      <td>-0.968897</td>\n",
       "      <td>-0.938610</td>\n",
       "      <td>...</td>\n",
       "      <td>-0.017067</td>\n",
       "      <td>0.154438</td>\n",
       "      <td>0.340134</td>\n",
       "      <td>0.296407</td>\n",
       "      <td>-0.698954</td>\n",
       "      <td>0.284114</td>\n",
       "      <td>-0.077108</td>\n",
       "      <td>2</td>\n",
       "      <td>5</td>\n",
       "      <td>STANDING</td>\n",
       "    </tr>\n",
       "    <tr>\n",
       "      <th>4</th>\n",
       "      <td>0.274833</td>\n",
       "      <td>-0.027848</td>\n",
       "      <td>-0.129527</td>\n",
       "      <td>-0.993852</td>\n",
       "      <td>-0.967445</td>\n",
       "      <td>-0.978295</td>\n",
       "      <td>-0.994111</td>\n",
       "      <td>-0.965953</td>\n",
       "      <td>-0.977346</td>\n",
       "      <td>-0.938610</td>\n",
       "      <td>...</td>\n",
       "      <td>-0.002223</td>\n",
       "      <td>-0.040046</td>\n",
       "      <td>0.736715</td>\n",
       "      <td>-0.118545</td>\n",
       "      <td>-0.692245</td>\n",
       "      <td>0.290722</td>\n",
       "      <td>-0.073857</td>\n",
       "      <td>2</td>\n",
       "      <td>5</td>\n",
       "      <td>STANDING</td>\n",
       "    </tr>\n",
       "  </tbody>\n",
       "</table>\n",
       "<p>5 rows × 564 columns</p>\n",
       "</div>"
      ],
      "text/plain": [
       "          0         1         2         3         4         5         6  \\\n",
       "0  0.257178 -0.023285 -0.014654 -0.938404 -0.920091 -0.667683 -0.952501   \n",
       "1  0.286027 -0.013163 -0.119083 -0.975415 -0.967458 -0.944958 -0.986799   \n",
       "2  0.275485 -0.026050 -0.118152 -0.993819 -0.969926 -0.962748 -0.994403   \n",
       "3  0.270298 -0.032614 -0.117520 -0.994743 -0.973268 -0.967091 -0.995274   \n",
       "4  0.274833 -0.027848 -0.129527 -0.993852 -0.967445 -0.978295 -0.994111   \n",
       "\n",
       "          7         8         9  ...       554       555       556       557  \\\n",
       "0 -0.925249 -0.674302 -0.894088  ...  0.006462  0.162920 -0.825886  0.271151   \n",
       "1 -0.968401 -0.945823 -0.894088  ... -0.083495  0.017500 -0.434375  0.920593   \n",
       "2 -0.970735 -0.963483 -0.939260  ... -0.034956  0.202302  0.064103  0.145068   \n",
       "3 -0.974471 -0.968897 -0.938610  ... -0.017067  0.154438  0.340134  0.296407   \n",
       "4 -0.965953 -0.977346 -0.938610  ... -0.002223 -0.040046  0.736715 -0.118545   \n",
       "\n",
       "        558       559       560  subject  Activity  ActivityName  \n",
       "0 -0.720009  0.276801 -0.057978        2         5      STANDING  \n",
       "1 -0.698091  0.281343 -0.083898        2         5      STANDING  \n",
       "2 -0.702771  0.280083 -0.079346        2         5      STANDING  \n",
       "3 -0.698954  0.284114 -0.077108        2         5      STANDING  \n",
       "4 -0.692245  0.290722 -0.073857        2         5      STANDING  \n",
       "\n",
       "[5 rows x 564 columns]"
      ]
     },
     "execution_count": 157,
     "metadata": {},
     "output_type": "execute_result"
    }
   ],
   "source": [
    "\n",
    "X_test = pd.read_csv('UCI_HAR_Dataset/test/X_test.txt', delim_whitespace=True, header=None)\n",
    "\n",
    "\n",
    "X_test['subject'] = pd.read_csv('UCI_HAR_Dataset/test/subject_test.txt', header=None, squeeze=True)\n",
    "\n",
    "\n",
    "y_test = pd.read_csv('UCI_HAR_Dataset/test/y_test.txt', names=['Activity'], squeeze=True)\n",
    "y_test_labels = y_test.map({1: 'WALKING', 2:'WALKING_UPSTAIRS',3:'WALKING_DOWNSTAIRS', 4:'SITTING', 5:'STANDING',6:'LAYING'})\n",
    "\n",
    "\n",
    "test = X_test\n",
    "test['Activity'] = y_test\n",
    "test['ActivityName'] = y_test_labels\n",
    "test.head()"
   ]
  },
  {
   "cell_type": "code",
   "execution_count": 158,
   "metadata": {},
   "outputs": [
    {
     "name": "stdout",
     "output_type": "stream",
     "text": [
      "(2947, 564) 1662108\n"
     ]
    }
   ],
   "source": [
    "print(test.shape,test.size)"
   ]
  },
  {
   "cell_type": "code",
   "execution_count": 159,
   "metadata": {},
   "outputs": [],
   "source": [
    "train.to_csv('UCI_HAR_Dataset/csv_files/train.csv', index=False)\n",
    "test.to_csv('UCI_HAR_Dataset/csv_files/test.csv', index=False)"
   ]
  },
  {
   "cell_type": "code",
   "execution_count": 160,
   "metadata": {},
   "outputs": [
    {
     "name": "stdout",
     "output_type": "stream",
     "text": [
      "(7352, 564) (2947, 564)\n"
     ]
    }
   ],
   "source": [
    "train = pd.read_csv('UCI_HAR_Dataset/csv_files/train.csv')\n",
    "test = pd.read_csv('UCI_HAR_Dataset/csv_files/test.csv')\n",
    "print(train.shape, test.shape)"
   ]
  },
  {
   "cell_type": "code",
   "execution_count": 161,
   "metadata": {},
   "outputs": [
    {
     "data": {
      "text/html": [
       "<div>\n",
       "<style scoped>\n",
       "    .dataframe tbody tr th:only-of-type {\n",
       "        vertical-align: middle;\n",
       "    }\n",
       "\n",
       "    .dataframe tbody tr th {\n",
       "        vertical-align: top;\n",
       "    }\n",
       "\n",
       "    .dataframe thead th {\n",
       "        text-align: right;\n",
       "    }\n",
       "</style>\n",
       "<table border=\"1\" class=\"dataframe\">\n",
       "  <thead>\n",
       "    <tr style=\"text-align: right;\">\n",
       "      <th></th>\n",
       "      <th>0</th>\n",
       "      <th>1</th>\n",
       "      <th>2</th>\n",
       "      <th>3</th>\n",
       "      <th>4</th>\n",
       "      <th>5</th>\n",
       "      <th>6</th>\n",
       "      <th>7</th>\n",
       "      <th>8</th>\n",
       "      <th>9</th>\n",
       "      <th>...</th>\n",
       "      <th>554</th>\n",
       "      <th>555</th>\n",
       "      <th>556</th>\n",
       "      <th>557</th>\n",
       "      <th>558</th>\n",
       "      <th>559</th>\n",
       "      <th>560</th>\n",
       "      <th>subject</th>\n",
       "      <th>Activity</th>\n",
       "      <th>ActivityName</th>\n",
       "    </tr>\n",
       "  </thead>\n",
       "  <tbody>\n",
       "    <tr>\n",
       "      <th>0</th>\n",
       "      <td>0.288585</td>\n",
       "      <td>-0.020294</td>\n",
       "      <td>-0.132905</td>\n",
       "      <td>-0.995279</td>\n",
       "      <td>-0.983111</td>\n",
       "      <td>-0.913526</td>\n",
       "      <td>-0.995112</td>\n",
       "      <td>-0.983185</td>\n",
       "      <td>-0.923527</td>\n",
       "      <td>-0.934724</td>\n",
       "      <td>...</td>\n",
       "      <td>-0.112754</td>\n",
       "      <td>0.0304</td>\n",
       "      <td>-0.464761</td>\n",
       "      <td>-0.018446</td>\n",
       "      <td>-0.841247</td>\n",
       "      <td>0.179941</td>\n",
       "      <td>-0.058627</td>\n",
       "      <td>1</td>\n",
       "      <td>5</td>\n",
       "      <td>STANDING</td>\n",
       "    </tr>\n",
       "  </tbody>\n",
       "</table>\n",
       "<p>1 rows × 564 columns</p>\n",
       "</div>"
      ],
      "text/plain": [
       "          0         1         2         3         4         5         6  \\\n",
       "0  0.288585 -0.020294 -0.132905 -0.995279 -0.983111 -0.913526 -0.995112   \n",
       "\n",
       "          7         8         9  ...       554     555       556       557  \\\n",
       "0 -0.983185 -0.923527 -0.934724  ... -0.112754  0.0304 -0.464761 -0.018446   \n",
       "\n",
       "        558       559       560  subject  Activity  ActivityName  \n",
       "0 -0.841247  0.179941 -0.058627        1         5      STANDING  \n",
       "\n",
       "[1 rows x 564 columns]"
      ]
     },
     "execution_count": 161,
     "metadata": {},
     "output_type": "execute_result"
    }
   ],
   "source": [
    "train.head(1)"
   ]
  },
  {
   "cell_type": "markdown",
   "metadata": {},
   "source": []
  },
  {
   "cell_type": "markdown",
   "metadata": {},
   "source": [
    "## 1. Visualising the Dataset"
   ]
  },
  {
   "cell_type": "code",
   "execution_count": 162,
   "metadata": {},
   "outputs": [],
   "source": [
    "sns.set_style('dark')\n",
    "plt.rcParams['lines.linewidth'] = 1\n",
    "plt.rcParams['font.family'] = 'DejaVu Sans'"
   ]
  },
  {
   "cell_type": "code",
   "execution_count": 163,
   "metadata": {},
   "outputs": [
    {
     "data": {
      "image/png": "[encoded data removed]",
      "text/plain": [
       "<Figure size 1008x432 with 1 Axes>"
      ]
     },
     "metadata": {},
     "output_type": "display_data"
    }
   ],
   "source": [
    "plt.figure(figsize=(14,6))\n",
    "plt.title(\"Total Activities performed by each volunteer in Training Data\",fontsize=20)\n",
    "sns.countplot(x=train.subject)\n",
    "plt.show()"
   ]
  },
  {
   "cell_type": "code",
   "execution_count": 164,
   "metadata": {},
   "outputs": [
    {
     "data": {
      "image/png": "[encoded data removed]",
      "text/plain": [
       "<Figure size 1008x432 with 1 Axes>"
      ]
     },
     "metadata": {},
     "output_type": "display_data"
    }
   ],
   "source": [
    "plt.figure(figsize=(14,6))\n",
    "plt.title(\"Total Activities performed by each volunteer in Test Data\",fontsize=20)\n",
    "sns.countplot(x=test.subject)\n",
    "plt.show()"
   ]
  },
  {
   "cell_type": "code",
   "execution_count": 165,
   "metadata": {},
   "outputs": [
    {
     "data": {
      "image/png": "[encoded data removed]",
      "text/plain": [
       "<Figure size 432x288 with 1 Axes>"
      ]
     },
     "metadata": {},
     "output_type": "display_data"
    }
   ],
   "source": [
    "y_train_labels = {1: 'WALKING', 2:'WALKING_UPSTAIRS',3:'WALKING_DOWNSTAIRS',4:'SITTING', 5:'STANDING',6:'LAYING'}\n",
    "lists=sorted(y_train_labels.items())\n",
    "x, y = zip(*lists)\n",
    "plt.scatter(x, y,linewidths = 2,marker =\"s\",edgecolor =\"green\", s = 50)\n",
    "plt.show()"
   ]
  },
  {
   "cell_type": "code",
   "execution_count": 166,
   "metadata": {},
   "outputs": [
    {
     "data": {
      "image/png": "[encoded data removed]",
      "text/plain": [
       "<Figure size 1008x432 with 1 Axes>"
      ]
     },
     "metadata": {},
     "output_type": "display_data"
    }
   ],
   "source": [
    "plt.figure(figsize=(14,6))\n",
    "plt.title('Count of each activity performed by each individual user in Training Data', fontsize=20)\n",
    "sns.countplot(x='subject',hue='ActivityName', data = train)\n",
    "plt.show()"
   ]
  },
  {
   "cell_type": "code",
   "execution_count": 167,
   "metadata": {},
   "outputs": [
    {
     "data": {
      "image/png": "[encoded data removed]",
      "text/plain": [
       "<Figure size 1008x432 with 1 Axes>"
      ]
     },
     "metadata": {},
     "output_type": "display_data"
    }
   ],
   "source": [
    "plt.figure(figsize=(14,6))\n",
    "plt.title('Count of each activity performed by each individual user in Testing Data', fontsize=20)\n",
    "sns.countplot(x='subject',hue='ActivityName', data = test)\n",
    "plt.show()"
   ]
  },
  {
   "cell_type": "code",
   "execution_count": 168,
   "metadata": {},
   "outputs": [
    {
     "data": {
      "image/png": "[encoded data removed]",
      "text/plain": [
       "<Figure size 432x288 with 1 Axes>"
      ]
     },
     "metadata": {},
     "output_type": "display_data"
    }
   ],
   "source": [
    "plt.title('No of Datapoints per Activity')\n",
    "sns.countplot(x=train.Activity)\n",
    "plt.xticks(rotation=0)\n",
    "plt.show()"
   ]
  },
  {
   "cell_type": "markdown",
   "metadata": {},
   "source": [
    "# Data Preprocessing"
   ]
  },
  {
   "cell_type": "markdown",
   "metadata": {},
   "source": [
    "## 1. Check for Duplicates"
   ]
  },
  {
   "cell_type": "code",
   "execution_count": 169,
   "metadata": {},
   "outputs": [
    {
     "name": "stdout",
     "output_type": "stream",
     "text": [
      "No of duplicates in train: 0\n",
      "No of duplicates in test : 0\n"
     ]
    }
   ],
   "source": [
    "print('No of duplicates in train: {}'.format(sum(train.duplicated())))\n",
    "print('No of duplicates in test : {}'.format(sum(test.duplicated())))"
   ]
  },
  {
   "cell_type": "markdown",
   "metadata": {},
   "source": [
    "## 2. Checking for NULL values"
   ]
  },
  {
   "cell_type": "code",
   "execution_count": 170,
   "metadata": {},
   "outputs": [
    {
     "name": "stdout",
     "output_type": "stream",
     "text": [
      "We have 0 NaN/Null values in train\n",
      "We have 0 NaN/Null values in test\n"
     ]
    }
   ],
   "source": [
    "print('We have {} NaN/Null values in train'.format(train.isnull().values.sum()))\n",
    "print('We have {} NaN/Null values in test'.format(test.isnull().values.sum()))"
   ]
  },
  {
   "cell_type": "markdown",
   "metadata": {},
   "source": [
    "## LSTM model for HAR"
   ]
  },
  {
   "cell_type": "code",
   "execution_count": 171,
   "metadata": {},
   "outputs": [],
   "source": [
    "np.random.seed(42)\n",
    "import tensorflow as tf\n",
    "tf.random.set_seed(42)"
   ]
  },
  {
   "cell_type": "code",
   "execution_count": 172,
   "metadata": {},
   "outputs": [],
   "source": [
    "#Configuring a session\n",
    "session_conf = tf.compat.v1.ConfigProto(intra_op_parallelism_threads=1,inter_op_parallelism_threads=1)"
   ]
  },
  {
   "cell_type": "code",
   "execution_count": 173,
   "metadata": {},
   "outputs": [],
   "source": [
    "# Import Keras\n",
    "from tensorflow.compat.v1.keras import backend as K\n",
    "sess = tf.compat.v1.Session(graph=tf.compat.v1.get_default_graph(), config=session_conf)\n",
    "K.set_session(sess)"
   ]
  },
  {
   "cell_type": "code",
   "execution_count": 174,
   "metadata": {},
   "outputs": [],
   "source": [
    "def confusion_matrix(Y_true, Y_pred):\n",
    "    Y_true = pd.Series([ACTIVITIES[y] for y in np.argmax(Y_true, axis=1)])\n",
    "    Y_pred = pd.Series([ACTIVITIES[y] for y in np.argmax(Y_pred, axis=1)])\n",
    "\n",
    "    return pd.crosstab(Y_true, Y_pred, rownames=['True'], colnames=['Pred'])"
   ]
  },
  {
   "cell_type": "code",
   "execution_count": 175,
   "metadata": {},
   "outputs": [],
   "source": [
    "def _read_csv(filename):\n",
    "    return pd.read_csv(filename, delim_whitespace=True, header=None)\n",
    "\n",
    "def generate_x_data(subset):\n",
    "    signals_data = []\n",
    "\n",
    "    for signal in SIGNALS:\n",
    "        filename = f'UCI_HAR_Dataset/{subset}/Inertial Signals/{signal}_{subset}.txt'\n",
    "        signals_data.append(_read_csv(filename).values) \n",
    "    return np.transpose(signals_data, (1, 2, 0))\n",
    "\n",
    "\n",
    "def _count_classes(y):\n",
    "    return len(set([tuple(category) for category in y]))"
   ]
  },
  {
   "cell_type": "code",
   "execution_count": 176,
   "metadata": {},
   "outputs": [],
   "source": [
    "def generate_y_data(subset):\n",
    "    \n",
    "    filename = f'UCI_HAR_Dataset/{subset}/y_{subset}.txt'\n",
    "    y = _read_csv(filename)[0]\n",
    "\n",
    "    return pd.get_dummies(y).values"
   ]
  },
  {
   "cell_type": "code",
   "execution_count": 177,
   "metadata": {},
   "outputs": [],
   "source": [
    "X_train, X_test = generate_x_data('train'), generate_x_data('test')\n",
    "y_train, y_test = generate_y_data('train'), generate_y_data('test')"
   ]
  },
  {
   "cell_type": "code",
   "execution_count": 178,
   "metadata": {},
   "outputs": [
    {
     "name": "stdout",
     "output_type": "stream",
     "text": [
      "7352\n",
      "128\n",
      "9\n",
      "6\n",
      "(7352, 128, 9)\n",
      "(7352, 6)\n"
     ]
    }
   ],
   "source": [
    "timesteps = len(X_train[0])\n",
    "input_dimension = len(X_train[0][0])\n",
    "n_classes = _count_classes(Y_train)\n",
    "\n",
    "print(len(X_train))\n",
    "print(timesteps)\n",
    "print(input_dimension)\n",
    "print(n_classes)\n",
    "print(X_train.shape)\n",
    "print(Y_train.shape)"
   ]
  },
  {
   "cell_type": "code",
   "execution_count": 179,
   "metadata": {},
   "outputs": [],
   "source": [
    "epochs = 30\n",
    "batch_size = 32\n",
    "n_hidden = 128\n",
    "pv = 0.25"
   ]
  },
  {
   "cell_type": "code",
   "execution_count": 180,
   "metadata": {},
   "outputs": [
    {
     "name": "stdout",
     "output_type": "stream",
     "text": [
      "Model: \"sequential_10\"\n",
      "_________________________________________________________________\n",
      "Layer (type)                 Output Shape              Param #   \n",
      "=================================================================\n",
      "lstm_10 (LSTM)               (None, 128)               70656     \n",
      "_________________________________________________________________\n",
      "batch_normalization_7 (Batch (None, 128)               512       \n",
      "_________________________________________________________________\n",
      "dropout_10 (Dropout)         (None, 128)               0         \n",
      "_________________________________________________________________\n",
      "dense_10 (Dense)             (None, 6)                 774       \n",
      "=================================================================\n",
      "Total params: 71,942\n",
      "Trainable params: 71,686\n",
      "Non-trainable params: 256\n",
      "_________________________________________________________________\n"
     ]
    }
   ],
   "source": [
    "model = Sequential()\n",
    "model.add(LSTM(n_hidden, input_shape=(timesteps, input_dimension)))\n",
    "model.add(BatchNormalization())\n",
    "model.add(Dropout(pv))          \n",
    "model.add(Dense(n_classes, activation='sigmoid'))\n",
    "model.summary()"
   ]
  },
  {
   "cell_type": "code",
   "execution_count": 200,
   "metadata": {},
   "outputs": [],
   "source": [
    "model.compile(loss='categorical_crossentropy',optimizer=keras.optimizers.Adam(0.001),metrics=['accuracy'])"
   ]
  },
  {
   "cell_type": "code",
   "execution_count": 201,
   "metadata": {},
   "outputs": [
    {
     "name": "stdout",
     "output_type": "stream",
     "text": [
      "Epoch 1/30\n",
      "230/230 [==============================] - 17s 74ms/step - loss: 0.1174 - accuracy: 0.9498 - val_loss: 0.2908 - val_accuracy: 0.9145\n",
      "Epoch 2/30\n",
      "230/230 [==============================] - 17s 74ms/step - loss: 0.1407 - accuracy: 0.9497 - val_loss: 0.2972 - val_accuracy: 0.9196\n",
      "Epoch 3/30\n",
      "230/230 [==============================] - 17s 74ms/step - loss: 0.1274 - accuracy: 0.9532 - val_loss: 1.1617 - val_accuracy: 0.8470\n",
      "Epoch 4/30\n",
      "230/230 [==============================] - 18s 80ms/step - loss: 0.1347 - accuracy: 0.9489 - val_loss: 0.2845 - val_accuracy: 0.9203\n",
      "Epoch 5/30\n",
      "230/230 [==============================] - 18s 79ms/step - loss: 0.1055 - accuracy: 0.9521 - val_loss: 0.2868 - val_accuracy: 0.9264\n",
      "Epoch 6/30\n",
      "230/230 [==============================] - 18s 77ms/step - loss: 0.1557 - accuracy: 0.9459 - val_loss: 0.4505 - val_accuracy: 0.9179\n",
      "Epoch 7/30\n",
      "230/230 [==============================] - 19s 82ms/step - loss: 0.1052 - accuracy: 0.9542 - val_loss: 0.3609 - val_accuracy: 0.9141\n",
      "Epoch 8/30\n",
      "230/230 [==============================] - 18s 77ms/step - loss: 0.0992 - accuracy: 0.9561 - val_loss: 0.3614 - val_accuracy: 0.9253\n",
      "Epoch 9/30\n",
      "230/230 [==============================] - 18s 77ms/step - loss: 0.0972 - accuracy: 0.9566 - val_loss: 0.3348 - val_accuracy: 0.9226\n",
      "Epoch 10/30\n",
      "230/230 [==============================] - 18s 77ms/step - loss: 0.1420 - accuracy: 0.9391 - val_loss: 0.4198 - val_accuracy: 0.9118\n",
      "Epoch 11/30\n",
      "230/230 [==============================] - 18s 77ms/step - loss: 0.1234 - accuracy: 0.9465 - val_loss: 0.3541 - val_accuracy: 0.9104\n",
      "Epoch 12/30\n",
      "230/230 [==============================] - 18s 76ms/step - loss: 0.1279 - accuracy: 0.9475 - val_loss: 0.3072 - val_accuracy: 0.9121\n",
      "Epoch 13/30\n",
      "230/230 [==============================] - 20s 86ms/step - loss: 0.1111 - accuracy: 0.9480 - val_loss: 0.3169 - val_accuracy: 0.9169\n",
      "Epoch 14/30\n",
      "230/230 [==============================] - 21s 93ms/step - loss: 0.1064 - accuracy: 0.9520 - val_loss: 0.3378 - val_accuracy: 0.9121\n",
      "Epoch 15/30\n",
      "230/230 [==============================] - 20s 89ms/step - loss: 0.1106 - accuracy: 0.9508 - val_loss: 0.3370 - val_accuracy: 0.8772\n",
      "Epoch 16/30\n",
      "230/230 [==============================] - 18s 78ms/step - loss: 0.1295 - accuracy: 0.9487 - val_loss: 0.4334 - val_accuracy: 0.8894\n",
      "Epoch 17/30\n",
      "230/230 [==============================] - 19s 84ms/step - loss: 0.1248 - accuracy: 0.9504 - val_loss: 0.3192 - val_accuracy: 0.9192\n",
      "Epoch 18/30\n",
      "230/230 [==============================] - 19s 82ms/step - loss: 0.1518 - accuracy: 0.9421 - val_loss: 0.4592 - val_accuracy: 0.8636\n",
      "Epoch 19/30\n",
      "230/230 [==============================] - 19s 81ms/step - loss: 0.1335 - accuracy: 0.9450 - val_loss: 0.2979 - val_accuracy: 0.9230\n",
      "Epoch 20/30\n",
      "230/230 [==============================] - 19s 82ms/step - loss: 0.1203 - accuracy: 0.9495 - val_loss: 0.2631 - val_accuracy: 0.9141\n",
      "Epoch 21/30\n",
      "230/230 [==============================] - 19s 81ms/step - loss: 0.1156 - accuracy: 0.9523 - val_loss: 0.2415 - val_accuracy: 0.9162\n",
      "Epoch 22/30\n",
      "230/230 [==============================] - 19s 81ms/step - loss: 0.1331 - accuracy: 0.9489 - val_loss: 0.3424 - val_accuracy: 0.8999\n",
      "Epoch 23/30\n",
      "230/230 [==============================] - 19s 81ms/step - loss: 0.1208 - accuracy: 0.9497 - val_loss: 0.3079 - val_accuracy: 0.9002\n",
      "Epoch 24/30\n",
      "230/230 [==============================] - 18s 76ms/step - loss: 0.1046 - accuracy: 0.9563 - val_loss: 0.3718 - val_accuracy: 0.9199\n",
      "Epoch 25/30\n",
      "230/230 [==============================] - 17s 75ms/step - loss: 0.1224 - accuracy: 0.9510 - val_loss: 0.3048 - val_accuracy: 0.9267\n",
      "Epoch 26/30\n",
      "230/230 [==============================] - 18s 77ms/step - loss: 0.1075 - accuracy: 0.9505 - val_loss: 0.3267 - val_accuracy: 0.9213\n",
      "Epoch 27/30\n",
      "230/230 [==============================] - 19s 83ms/step - loss: 0.1048 - accuracy: 0.9569 - val_loss: 0.3288 - val_accuracy: 0.9155\n",
      "Epoch 28/30\n",
      "230/230 [==============================] - 19s 81ms/step - loss: 0.1244 - accuracy: 0.9474 - val_loss: 0.3198 - val_accuracy: 0.9121\n",
      "Epoch 29/30\n",
      "230/230 [==============================] - 19s 81ms/step - loss: 0.1030 - accuracy: 0.9553 - val_loss: 0.3319 - val_accuracy: 0.9196\n",
      "Epoch 30/30\n",
      "230/230 [==============================] - 19s 82ms/step - loss: 0.1082 - accuracy: 0.9514 - val_loss: 0.3640 - val_accuracy: 0.9165\n"
     ]
    },
    {
     "data": {
      "text/plain": [
       "<tensorflow.python.keras.callbacks.History at 0x7ffaa9e051f0>"
      ]
     },
     "execution_count": 201,
     "metadata": {},
     "output_type": "execute_result"
    }
   ],
   "source": [
    "model.fit(X_train,Y_train,batch_size=batch_size,validation_data=(X_test, Y_test),epochs=epochs)"
   ]
  },
  {
   "cell_type": "code",
   "execution_count": 202,
   "metadata": {},
   "outputs": [
    {
     "data": {
      "text/plain": [
       "<AxesSubplot:xlabel='Pred', ylabel='True'>"
      ]
     },
     "execution_count": 202,
     "metadata": {},
     "output_type": "execute_result"
    },
    {
     "data": {
      "image/png": "[encoded data removed]",
      "text/plain": [
       "<Figure size 432x288 with 2 Axes>"
      ]
     },
     "metadata": {},
     "output_type": "display_data"
    }
   ],
   "source": [
    "result=confusion_matrix(Y_test, model.predict(X_test))\n",
    "sn.heatmap(result, annot=True)"
   ]
  },
  {
   "cell_type": "code",
   "execution_count": 203,
   "metadata": {},
   "outputs": [
    {
     "name": "stdout",
     "output_type": "stream",
     "text": [
      "93/93 [==============================] - 2s 18ms/step - loss: 0.3640 - accuracy: 0.9165\n"
     ]
    }
   ],
   "source": [
    "score = model.evaluate(X_test, Y_test)"
   ]
  },
  {
   "cell_type": "code",
   "execution_count": 204,
   "metadata": {},
   "outputs": [
    {
     "data": {
      "text/plain": [
       "[0.3639998733997345, 0.9165253043174744]"
      ]
     },
     "execution_count": 204,
     "metadata": {},
     "output_type": "execute_result"
    }
   ],
   "source": [
    "score"
   ]
  },
  {
   "cell_type": "markdown",
   "metadata": {},
   "source": [
    "- With a simple LSTM architecture we got 91.65% accuracy."
   ]
  },
  {
   "cell_type": "markdown",
   "metadata": {},
   "source": [
    "### LSTM Model2\n",
    "<br>\n",
    "stacking 2 LSTM "
   ]
  },
  {
   "cell_type": "code",
   "execution_count": 186,
   "metadata": {},
   "outputs": [],
   "source": [
    "epochs1 = 30\n",
    "batch_size1= 32\n",
    "n_hidden1 = 128\n",
    "n_hidden2 =128\n",
    "pv1 = 0.2\n",
    "pv2 = 0.5"
   ]
  },
  {
   "cell_type": "code",
   "execution_count": 187,
   "metadata": {},
   "outputs": [
    {
     "name": "stdout",
     "output_type": "stream",
     "text": [
      "Model: \"sequential_11\"\n",
      "_________________________________________________________________\n",
      "Layer (type)                 Output Shape              Param #   \n",
      "=================================================================\n",
      "lstm_11 (LSTM)               (None, 128, 128)          70656     \n",
      "_________________________________________________________________\n",
      "dropout_11 (Dropout)         (None, 128, 128)          0         \n",
      "_________________________________________________________________\n",
      "lstm_12 (LSTM)               (None, 64)                49408     \n",
      "_________________________________________________________________\n",
      "dropout_12 (Dropout)         (None, 64)                0         \n",
      "_________________________________________________________________\n",
      "dense_11 (Dense)             (None, 6)                 390       \n",
      "=================================================================\n",
      "Total params: 120,454\n",
      "Trainable params: 120,454\n",
      "Non-trainable params: 0\n",
      "_________________________________________________________________\n"
     ]
    }
   ],
   "source": [
    "model1 = Sequential()\n",
    "\n",
    "model1.add(LSTM(n_hidden1, return_sequences=True, input_shape=(timesteps, input_dim)))\n",
    "\n",
    "model1.add(Dropout(pv1))\n",
    "\n",
    "model1.add(LSTM(n_hidden2))\n",
    "\n",
    "model1.add(Dropout(pv2))\n",
    "\n",
    "model1.add(Dense(n_classes, activation='sigmoid'))\n",
    "model1.summary()"
   ]
  },
  {
   "cell_type": "code",
   "execution_count": 188,
   "metadata": {},
   "outputs": [],
   "source": [
    "model1.compile(loss='categorical_crossentropy',optimizer=keras.optimizers.Adam(0.001),metrics=['accuracy'])"
   ]
  },
  {
   "cell_type": "code",
   "execution_count": 194,
   "metadata": {},
   "outputs": [
    {
     "name": "stdout",
     "output_type": "stream",
     "text": [
      "Epoch 1/30\n",
      "230/230 [==============================] - 25s 111ms/step - loss: 0.1481 - accuracy: 0.9491 - val_loss: 0.3288 - val_accuracy: 0.8938\n",
      "Epoch 2/30\n",
      "230/230 [==============================] - 27s 117ms/step - loss: 0.1323 - accuracy: 0.9527 - val_loss: 0.3130 - val_accuracy: 0.9060\n",
      "Epoch 3/30\n",
      "230/230 [==============================] - 28s 123ms/step - loss: 0.1329 - accuracy: 0.9513 - val_loss: 0.3100 - val_accuracy: 0.9114\n",
      "Epoch 4/30\n",
      "230/230 [==============================] - 28s 123ms/step - loss: 0.1240 - accuracy: 0.9508 - val_loss: 0.3442 - val_accuracy: 0.9036\n",
      "Epoch 5/30\n",
      "230/230 [==============================] - 28s 123ms/step - loss: 0.1345 - accuracy: 0.9533 - val_loss: 0.3364 - val_accuracy: 0.9016\n",
      "Epoch 6/30\n",
      "230/230 [==============================] - 28s 122ms/step - loss: 0.2130 - accuracy: 0.9332 - val_loss: 0.2642 - val_accuracy: 0.9131\n",
      "Epoch 7/30\n",
      "230/230 [==============================] - 28s 123ms/step - loss: 0.1355 - accuracy: 0.9429 - val_loss: 0.2765 - val_accuracy: 0.9169\n",
      "Epoch 8/30\n",
      "230/230 [==============================] - 28s 123ms/step - loss: 0.1245 - accuracy: 0.9532 - val_loss: 0.2971 - val_accuracy: 0.9114\n",
      "Epoch 9/30\n",
      "230/230 [==============================] - 28s 123ms/step - loss: 0.1247 - accuracy: 0.9521 - val_loss: 0.3359 - val_accuracy: 0.9087\n",
      "Epoch 10/30\n",
      "230/230 [==============================] - 28s 123ms/step - loss: 0.1207 - accuracy: 0.9533 - val_loss: 0.2423 - val_accuracy: 0.9179\n",
      "Epoch 11/30\n",
      "230/230 [==============================] - 28s 123ms/step - loss: 0.1132 - accuracy: 0.9558 - val_loss: 0.2904 - val_accuracy: 0.9189\n",
      "Epoch 12/30\n",
      "230/230 [==============================] - 28s 123ms/step - loss: 0.1176 - accuracy: 0.9550 - val_loss: 0.2583 - val_accuracy: 0.9162\n",
      "Epoch 13/30\n",
      "230/230 [==============================] - 28s 123ms/step - loss: 0.1158 - accuracy: 0.9554 - val_loss: 0.2890 - val_accuracy: 0.9250\n",
      "Epoch 14/30\n",
      "230/230 [==============================] - 29s 124ms/step - loss: 0.1182 - accuracy: 0.9566 - val_loss: 0.3453 - val_accuracy: 0.9128\n",
      "Epoch 15/30\n",
      "230/230 [==============================] - 28s 123ms/step - loss: 0.1168 - accuracy: 0.9550 - val_loss: 0.3951 - val_accuracy: 0.9053\n",
      "Epoch 16/30\n",
      "230/230 [==============================] - 28s 123ms/step - loss: 0.1143 - accuracy: 0.9525 - val_loss: 0.3638 - val_accuracy: 0.9080\n",
      "Epoch 17/30\n",
      "230/230 [==============================] - 28s 123ms/step - loss: 0.1114 - accuracy: 0.9553 - val_loss: 0.3627 - val_accuracy: 0.9145\n",
      "Epoch 18/30\n",
      "230/230 [==============================] - 28s 123ms/step - loss: 0.1098 - accuracy: 0.9555 - val_loss: 0.3177 - val_accuracy: 0.9148\n",
      "Epoch 19/30\n",
      "230/230 [==============================] - 28s 123ms/step - loss: 0.1177 - accuracy: 0.9539 - val_loss: 0.3089 - val_accuracy: 0.9158\n",
      "Epoch 20/30\n",
      "230/230 [==============================] - 29s 126ms/step - loss: 0.1440 - accuracy: 0.9459 - val_loss: 0.3615 - val_accuracy: 0.8941\n",
      "Epoch 21/30\n",
      "230/230 [==============================] - 28s 123ms/step - loss: 0.1833 - accuracy: 0.9425 - val_loss: 0.3418 - val_accuracy: 0.8989\n",
      "Epoch 22/30\n",
      "230/230 [==============================] - 28s 123ms/step - loss: 0.1726 - accuracy: 0.9436 - val_loss: 0.4294 - val_accuracy: 0.8839\n",
      "Epoch 23/30\n",
      "230/230 [==============================] - 28s 123ms/step - loss: 0.1660 - accuracy: 0.9426 - val_loss: 0.4587 - val_accuracy: 0.8907\n",
      "Epoch 24/30\n",
      "230/230 [==============================] - 28s 123ms/step - loss: 0.1965 - accuracy: 0.9310 - val_loss: 0.3465 - val_accuracy: 0.9002\n",
      "Epoch 25/30\n",
      "230/230 [==============================] - 28s 124ms/step - loss: 0.1250 - accuracy: 0.9491 - val_loss: 0.2881 - val_accuracy: 0.9101\n",
      "Epoch 26/30\n",
      "230/230 [==============================] - 28s 124ms/step - loss: 0.1171 - accuracy: 0.9538 - val_loss: 0.3650 - val_accuracy: 0.9053\n",
      "Epoch 27/30\n",
      "230/230 [==============================] - 28s 123ms/step - loss: 0.1107 - accuracy: 0.9574 - val_loss: 0.3951 - val_accuracy: 0.9026\n",
      "Epoch 28/30\n",
      "230/230 [==============================] - 28s 123ms/step - loss: 0.1399 - accuracy: 0.9460 - val_loss: 0.3706 - val_accuracy: 0.9067\n",
      "Epoch 29/30\n",
      "230/230 [==============================] - 29s 124ms/step - loss: 0.1134 - accuracy: 0.9557 - val_loss: 0.3804 - val_accuracy: 0.9084\n",
      "Epoch 30/30\n",
      "230/230 [==============================] - 28s 123ms/step - loss: 0.1087 - accuracy: 0.9585 - val_loss: 0.3502 - val_accuracy: 0.9131\n"
     ]
    },
    {
     "data": {
      "text/plain": [
       "<tensorflow.python.keras.callbacks.History at 0x7ffaa4134610>"
      ]
     },
     "execution_count": 194,
     "metadata": {},
     "output_type": "execute_result"
    }
   ],
   "source": [
    "model1.fit(X_train,Y_train,batch_size=batch_size,validation_data=(X_test, Y_test),epochs=epochs1)"
   ]
  },
  {
   "cell_type": "code",
   "execution_count": 195,
   "metadata": {},
   "outputs": [
    {
     "data": {
      "text/plain": [
       "<AxesSubplot:xlabel='Pred', ylabel='True'>"
      ]
     },
     "execution_count": 195,
     "metadata": {},
     "output_type": "execute_result"
    },
    {
     "data": {
      "image/png": "[encoded data removed]",
      "text/plain": [
       "<Figure size 432x288 with 2 Axes>"
      ]
     },
     "metadata": {},
     "output_type": "display_data"
    }
   ],
   "source": [
    "result=confusion_matrix(Y_test, model1.predict(X_test))\n",
    "sn.heatmap(result, annot=True)"
   ]
  },
  {
   "cell_type": "code",
   "execution_count": 196,
   "metadata": {},
   "outputs": [
    {
     "name": "stdout",
     "output_type": "stream",
     "text": [
      "93/93 [==============================] - 3s 27ms/step - loss: 0.3502 - accuracy: 0.9131\n"
     ]
    }
   ],
   "source": [
    "score1 = model1.evaluate(X_test, Y_test)"
   ]
  },
  {
   "cell_type": "code",
   "execution_count": 205,
   "metadata": {},
   "outputs": [
    {
     "data": {
      "text/plain": [
       "[0.35017648339271545, 0.9131320118904114]"
      ]
     },
     "execution_count": 205,
     "metadata": {},
     "output_type": "execute_result"
    }
   ],
   "source": [
    "score1"
   ]
  },
  {
   "cell_type": "markdown",
   "metadata": {},
   "source": [
    "<b>Final Comments</b>\n",
    "* By Simple two layered LSTM, we got a good accuracy of 91.31%. \n",
    "* In short, Deep Learning help us to built models even when we don't have domain expert engineered features. \n",
    "* LSTM model can be further improved by running it for more epochs and more evaluations while tuning hyper-parameter."
   ]
  },
  {
   "cell_type": "markdown",
   "metadata": {},
   "source": [
    "## Machine learning model(Logistic Regression)"
   ]
  },
  {
   "cell_type": "code",
   "execution_count": 208,
   "metadata": {},
   "outputs": [
    {
     "name": "stdout",
     "output_type": "stream",
     "text": [
      "X_train and y_train : ((7352, 128, 9),(7352, 6))\n",
      "X_test  and y_test  : ((2947, 128, 9),(2947, 6))\n"
     ]
    },
    {
     "data": {
      "text/plain": [
       "array([[0, 0, 0, 0, 1, 0],\n",
       "       [0, 0, 0, 0, 1, 0],\n",
       "       [0, 0, 0, 0, 1, 0],\n",
       "       ...,\n",
       "       [0, 1, 0, 0, 0, 0],\n",
       "       [0, 1, 0, 0, 0, 0],\n",
       "       [0, 1, 0, 0, 0, 0]], dtype=uint8)"
      ]
     },
     "execution_count": 208,
     "metadata": {},
     "output_type": "execute_result"
    }
   ],
   "source": [
    "print('X_train and y_train : ({},{})'.format(X_train.shape, y_train.shape))\n",
    "print('X_test  and y_test  : ({},{})'.format(X_test.shape, y_test.shape))\n",
    "y_test"
   ]
  },
  {
   "cell_type": "code",
   "execution_count": 209,
   "metadata": {},
   "outputs": [
    {
     "name": "stdout",
     "output_type": "stream",
     "text": [
      "X_train and y_train : ((7352, 561),(7352,))\n",
      "X_test  and y_test  : ((2947, 561),(2947,))\n",
      "0    5\n",
      "1    5\n",
      "2    5\n",
      "3    5\n",
      "4    5\n",
      "Name: Activity, dtype: int64\n"
     ]
    }
   ],
   "source": [
    "\n",
    "# get X_train and y_train from csv files\n",
    "X_train = train.drop(['subject', 'Activity', 'ActivityName'], axis=1)\n",
    "y_train = train.Activity\n",
    "X_test = test.drop(['subject', 'Activity', 'ActivityName'], axis=1)\n",
    "y_test = test.Activity\n",
    "print('X_train and y_train : ({},{})'.format(X_train.shape, y_train.shape))\n",
    "print('X_test  and y_test  : ({},{})'.format(X_test.shape, y_test.shape))\n",
    "print(y_train.head())"
   ]
  },
  {
   "cell_type": "code",
   "execution_count": 210,
   "metadata": {},
   "outputs": [
    {
     "name": "stdout",
     "output_type": "stream",
     "text": [
      "             0         1         2         3         4         5         6  \\\n",
      "0     0.288585 -0.020294 -0.132905 -0.995279 -0.983111 -0.913526 -0.995112   \n",
      "1     0.278419 -0.016411 -0.123520 -0.998245 -0.975300 -0.960322 -0.998807   \n",
      "2     0.279653 -0.019467 -0.113462 -0.995380 -0.967187 -0.978944 -0.996520   \n",
      "3     0.279174 -0.026201 -0.123283 -0.996091 -0.983403 -0.990675 -0.997099   \n",
      "4     0.276629 -0.016570 -0.115362 -0.998139 -0.980817 -0.990482 -0.998321   \n",
      "...        ...       ...       ...       ...       ...       ...       ...   \n",
      "7347  0.299665 -0.057193 -0.181233 -0.195387  0.039905  0.077078 -0.282301   \n",
      "7348  0.273853 -0.007749 -0.147468 -0.235309  0.004816  0.059280 -0.322552   \n",
      "7349  0.273387 -0.017011 -0.045022 -0.218218 -0.103822  0.274533 -0.304515   \n",
      "7350  0.289654 -0.018843 -0.158281 -0.219139 -0.111412  0.268893 -0.310487   \n",
      "7351  0.351503 -0.012423 -0.203867 -0.269270 -0.087212  0.177404 -0.377404   \n",
      "\n",
      "             7         8         9  ...       551       552       553  \\\n",
      "0    -0.983185 -0.923527 -0.934724  ... -0.074323 -0.298676 -0.710304   \n",
      "1    -0.974914 -0.957686 -0.943068  ...  0.158075 -0.595051 -0.861499   \n",
      "2    -0.963668 -0.977469 -0.938692  ...  0.414503 -0.390748 -0.760104   \n",
      "3    -0.982750 -0.989302 -0.938692  ...  0.404573 -0.117290 -0.482845   \n",
      "4    -0.979672 -0.990441 -0.942469  ...  0.087753 -0.351471 -0.699205   \n",
      "...        ...       ...       ...  ...       ...       ...       ...   \n",
      "7347  0.043616  0.060410  0.210795  ... -0.070157 -0.588433 -0.880324   \n",
      "7348 -0.029456  0.080585  0.117440  ...  0.165259 -0.390738 -0.680744   \n",
      "7349 -0.098913  0.332584  0.043999  ...  0.195034  0.025145 -0.304029   \n",
      "7350 -0.068200  0.319473  0.101702  ...  0.013865  0.063907 -0.344314   \n",
      "7351 -0.038678  0.229430  0.269013  ... -0.058402 -0.387052 -0.740738   \n",
      "\n",
      "           554       555       556       557       558       559       560  \n",
      "0    -0.112754  0.030400 -0.464761 -0.018446 -0.841247  0.179941 -0.058627  \n",
      "1     0.053477 -0.007435 -0.732626  0.703511 -0.844788  0.180289 -0.054317  \n",
      "2    -0.118559  0.177899  0.100699  0.808529 -0.848933  0.180637 -0.049118  \n",
      "3    -0.036788 -0.012892  0.640011 -0.485366 -0.848649  0.181935 -0.047663  \n",
      "4     0.123320  0.122542  0.693578 -0.615971 -0.847865  0.185151 -0.043892  \n",
      "...        ...       ...       ...       ...       ...       ...       ...  \n",
      "7347 -0.190437  0.829718  0.206972 -0.425619 -0.791883  0.238604  0.049819  \n",
      "7348  0.064907  0.875679 -0.879033  0.400219 -0.771840  0.252676  0.050053  \n",
      "7349  0.052806 -0.266724  0.864404  0.701169 -0.779133  0.249145  0.040811  \n",
      "7350 -0.101360  0.700740  0.936674 -0.589479 -0.785181  0.246432  0.025339  \n",
      "7351 -0.280088 -0.007739 -0.056088 -0.616956 -0.783267  0.246809  0.036695  \n",
      "\n",
      "[7352 rows x 561 columns]\n"
     ]
    }
   ],
   "source": [
    "print(X_train)"
   ]
  },
  {
   "cell_type": "code",
   "execution_count": 211,
   "metadata": {
    "scrolled": true
   },
   "outputs": [
    {
     "name": "stdout",
     "output_type": "stream",
     "text": [
      "             0         1         2         3         4         5         6  \\\n",
      "4525  0.283203 -0.047024 -0.168986  0.384949  0.176898 -0.310332  0.381757   \n",
      "\n",
      "             7         8         9  ...       551       552       553  \\\n",
      "4525  0.122611 -0.332984  0.465563  ...  0.454181 -0.730593 -0.932568   \n",
      "\n",
      "           554       555       556       557      558      559       560  \n",
      "4525 -0.034924  0.558036  0.258975 -0.854858 -0.78433  0.22296 -0.066506  \n",
      "\n",
      "[1 rows x 561 columns]\n"
     ]
    }
   ],
   "source": [
    "print(X_train.sample())"
   ]
  },
  {
   "cell_type": "code",
   "execution_count": 212,
   "metadata": {},
   "outputs": [
    {
     "data": {
      "text/plain": [
       "(             0         1         2         3         4         5         6  \\\n",
       " 0     0.288585 -0.020294 -0.132905 -0.995279 -0.983111 -0.913526 -0.995112   \n",
       " 1     0.278419 -0.016411 -0.123520 -0.998245 -0.975300 -0.960322 -0.998807   \n",
       " 2     0.279653 -0.019467 -0.113462 -0.995380 -0.967187 -0.978944 -0.996520   \n",
       " 3     0.279174 -0.026201 -0.123283 -0.996091 -0.983403 -0.990675 -0.997099   \n",
       " 4     0.276629 -0.016570 -0.115362 -0.998139 -0.980817 -0.990482 -0.998321   \n",
       " ...        ...       ...       ...       ...       ...       ...       ...   \n",
       " 7347  0.299665 -0.057193 -0.181233 -0.195387  0.039905  0.077078 -0.282301   \n",
       " 7348  0.273853 -0.007749 -0.147468 -0.235309  0.004816  0.059280 -0.322552   \n",
       " 7349  0.273387 -0.017011 -0.045022 -0.218218 -0.103822  0.274533 -0.304515   \n",
       " 7350  0.289654 -0.018843 -0.158281 -0.219139 -0.111412  0.268893 -0.310487   \n",
       " 7351  0.351503 -0.012423 -0.203867 -0.269270 -0.087212  0.177404 -0.377404   \n",
       " \n",
       "              7         8         9  ...       551       552       553  \\\n",
       " 0    -0.983185 -0.923527 -0.934724  ... -0.074323 -0.298676 -0.710304   \n",
       " 1    -0.974914 -0.957686 -0.943068  ...  0.158075 -0.595051 -0.861499   \n",
       " 2    -0.963668 -0.977469 -0.938692  ...  0.414503 -0.390748 -0.760104   \n",
       " 3    -0.982750 -0.989302 -0.938692  ...  0.404573 -0.117290 -0.482845   \n",
       " 4    -0.979672 -0.990441 -0.942469  ...  0.087753 -0.351471 -0.699205   \n",
       " ...        ...       ...       ...  ...       ...       ...       ...   \n",
       " 7347  0.043616  0.060410  0.210795  ... -0.070157 -0.588433 -0.880324   \n",
       " 7348 -0.029456  0.080585  0.117440  ...  0.165259 -0.390738 -0.680744   \n",
       " 7349 -0.098913  0.332584  0.043999  ...  0.195034  0.025145 -0.304029   \n",
       " 7350 -0.068200  0.319473  0.101702  ...  0.013865  0.063907 -0.344314   \n",
       " 7351 -0.038678  0.229430  0.269013  ... -0.058402 -0.387052 -0.740738   \n",
       " \n",
       "            554       555       556       557       558       559       560  \n",
       " 0    -0.112754  0.030400 -0.464761 -0.018446 -0.841247  0.179941 -0.058627  \n",
       " 1     0.053477 -0.007435 -0.732626  0.703511 -0.844788  0.180289 -0.054317  \n",
       " 2    -0.118559  0.177899  0.100699  0.808529 -0.848933  0.180637 -0.049118  \n",
       " 3    -0.036788 -0.012892  0.640011 -0.485366 -0.848649  0.181935 -0.047663  \n",
       " 4     0.123320  0.122542  0.693578 -0.615971 -0.847865  0.185151 -0.043892  \n",
       " ...        ...       ...       ...       ...       ...       ...       ...  \n",
       " 7347 -0.190437  0.829718  0.206972 -0.425619 -0.791883  0.238604  0.049819  \n",
       " 7348  0.064907  0.875679 -0.879033  0.400219 -0.771840  0.252676  0.050053  \n",
       " 7349  0.052806 -0.266724  0.864404  0.701169 -0.779133  0.249145  0.040811  \n",
       " 7350 -0.101360  0.700740  0.936674 -0.589479 -0.785181  0.246432  0.025339  \n",
       " 7351 -0.280088 -0.007739 -0.056088 -0.616956 -0.783267  0.246809  0.036695  \n",
       " \n",
       " [7352 rows x 561 columns],\n",
       " 0       5\n",
       " 1       5\n",
       " 2       5\n",
       " 3       5\n",
       " 4       5\n",
       "        ..\n",
       " 7347    2\n",
       " 7348    2\n",
       " 7349    2\n",
       " 7350    2\n",
       " 7351    2\n",
       " Name: Activity, Length: 7352, dtype: int64,\n",
       "              0         1         2         3         4         5         6  \\\n",
       " 0     0.257178 -0.023285 -0.014654 -0.938404 -0.920091 -0.667683 -0.952501   \n",
       " 1     0.286027 -0.013163 -0.119083 -0.975415 -0.967458 -0.944958 -0.986799   \n",
       " 2     0.275485 -0.026050 -0.118152 -0.993819 -0.969926 -0.962748 -0.994403   \n",
       " 3     0.270298 -0.032614 -0.117520 -0.994743 -0.973268 -0.967091 -0.995274   \n",
       " 4     0.274833 -0.027848 -0.129527 -0.993852 -0.967445 -0.978295 -0.994111   \n",
       " ...        ...       ...       ...       ...       ...       ...       ...   \n",
       " 2942  0.310155 -0.053391 -0.099109 -0.287866 -0.140589 -0.215088 -0.356083   \n",
       " 2943  0.363385 -0.039214 -0.105915 -0.305388  0.028148 -0.196373 -0.373540   \n",
       " 2944  0.349966  0.030077 -0.115788 -0.329638 -0.042143 -0.250181 -0.388017   \n",
       " 2945  0.237594  0.018467 -0.096499 -0.323114 -0.229775 -0.207574 -0.392380   \n",
       " 2946  0.153627 -0.018437 -0.137018 -0.330046 -0.195253 -0.164339 -0.430974   \n",
       " \n",
       "              7         8         9  ...       551       552       553  \\\n",
       " 0    -0.925249 -0.674302 -0.894088  ...  0.071645 -0.330370 -0.705974   \n",
       " 1    -0.968401 -0.945823 -0.894088  ... -0.401189 -0.121845 -0.594944   \n",
       " 2    -0.970735 -0.963483 -0.939260  ...  0.062891 -0.190422 -0.640736   \n",
       " 3    -0.974471 -0.968897 -0.938610  ...  0.116695 -0.344418 -0.736124   \n",
       " 4    -0.965953 -0.977346 -0.938610  ... -0.121711 -0.534685 -0.846595   \n",
       " ...        ...       ...       ...  ...       ...       ...       ...   \n",
       " 2942 -0.148775 -0.232057  0.185361  ...  0.074472 -0.376278 -0.750809   \n",
       " 2943 -0.030036 -0.270237  0.185361  ...  0.101859 -0.320418 -0.700274   \n",
       " 2944 -0.133257 -0.347029  0.007471  ... -0.066249 -0.118854 -0.467179   \n",
       " 2945 -0.279610 -0.289477  0.007471  ... -0.046467 -0.205445 -0.617737   \n",
       " 2946 -0.218295 -0.229933 -0.111527  ... -0.010386 -0.072237 -0.436940   \n",
       " \n",
       "            554       555       556       557       558       559       560  \n",
       " 0     0.006462  0.162920 -0.825886  0.271151 -0.720009  0.276801 -0.057978  \n",
       " 1    -0.083495  0.017500 -0.434375  0.920593 -0.698091  0.281343 -0.083898  \n",
       " 2    -0.034956  0.202302  0.064103  0.145068 -0.702771  0.280083 -0.079346  \n",
       " 3    -0.017067  0.154438  0.340134  0.296407 -0.698954  0.284114 -0.077108  \n",
       " 4    -0.002223 -0.040046  0.736715 -0.118545 -0.692245  0.290722 -0.073857  \n",
       " ...        ...       ...       ...       ...       ...       ...       ...  \n",
       " 2942 -0.337422  0.346295  0.884904 -0.698885 -0.651732  0.274627  0.184784  \n",
       " 2943 -0.736701 -0.372889 -0.657421  0.322549 -0.655181  0.273578  0.182412  \n",
       " 2944 -0.181560  0.088574  0.696663  0.363139 -0.655357  0.274479  0.181184  \n",
       " 2945  0.444558 -0.819188  0.929294 -0.008398 -0.659719  0.264782  0.187563  \n",
       " 2946  0.598808 -0.287951  0.876030 -0.024965 -0.660080  0.263936  0.188103  \n",
       " \n",
       " [2947 rows x 561 columns],\n",
       " 0       5\n",
       " 1       5\n",
       " 2       5\n",
       " 3       5\n",
       " 4       5\n",
       "        ..\n",
       " 2942    2\n",
       " 2943    2\n",
       " 2944    2\n",
       " 2945    2\n",
       " 2946    2\n",
       " Name: Activity, Length: 2947, dtype: int64)"
      ]
     },
     "execution_count": 212,
     "metadata": {},
     "output_type": "execute_result"
    }
   ],
   "source": [
    "X_train,y_train,X_test,y_test"
   ]
  },
  {
   "cell_type": "code",
   "execution_count": 213,
   "metadata": {},
   "outputs": [],
   "source": [
    "logistic_regression= LogisticRegression(solver='lbfgs',max_iter=100000)\n",
    "result=logistic_regression.fit(X_train,y_train)\n",
    "y_pred=logistic_regression.predict(X_test)"
   ]
  },
  {
   "cell_type": "code",
   "execution_count": 214,
   "metadata": {},
   "outputs": [
    {
     "data": {
      "text/plain": [
       "<AxesSubplot:xlabel='Predicted', ylabel='Actual'>"
      ]
     },
     "execution_count": 214,
     "metadata": {},
     "output_type": "execute_result"
    },
    {
     "data": {
      "image/png": "[encoded data removed]",
      "text/plain": [
       "<Figure size 576x576 with 2 Axes>"
      ]
     },
     "metadata": {},
     "output_type": "display_data"
    }
   ],
   "source": [
    "plt.figure(figsize=(8,8))\n",
    "plt.grid(b=False)\n",
    "confusion_matrix = pd.crosstab(y_test, y_pred, rownames=['Actual'], colnames=['Predicted'])\n",
    "sn.heatmap(confusion_matrix, annot=True)"
   ]
  },
  {
   "cell_type": "code",
   "execution_count": 215,
   "metadata": {},
   "outputs": [
    {
     "name": "stdout",
     "output_type": "stream",
     "text": [
      "Accuracy:  0.9613165931455717\n"
     ]
    }
   ],
   "source": [
    "print('Accuracy: ',metrics.accuracy_score(y_test, y_pred))\n",
    "plt.show()"
   ]
  },
  {
   "cell_type": "code",
   "execution_count": null,
   "metadata": {},
   "outputs": [],
   "source": []
  },
  {
   "cell_type": "code",
   "execution_count": null,
   "metadata": {},
   "outputs": [],
   "source": []
  }
 ],
 "metadata": {
  "kernelspec": {
   "display_name": "Python 3",
   "language": "python",
   "name": "python3"
  },
  "language_info": {
   "codemirror_mode": {
    "name": "ipython",
    "version": 3
   },
   "file_extension": ".py",
   "mimetype": "text/x-python",
   "name": "python",
   "nbconvert_exporter": "python",
   "pygments_lexer": "ipython3",
   "version": "3.8.5"
  }
 },
 "nbformat": 4,
 "nbformat_minor": 4
}
